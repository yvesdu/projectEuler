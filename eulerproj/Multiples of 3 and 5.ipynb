{
 "cells": [
  {
   "cell_type": "code",
   "execution_count": 1,
   "metadata": {},
   "outputs": [],
   "source": [
    "## If we list all the natural numbers below 10 that are multiples of 3 or 5,\n",
    "## we get 3, 5, 6 and 9. The sum of these multiples is 23.\n",
    "\n",
    "## Find the sum of all the multiples of 3 or 5 below 1000."
   ]
  },
  {
   "cell_type": "code",
   "execution_count": 2,
   "metadata": {},
   "outputs": [
    {
     "name": "stdout",
     "output_type": "stream",
     "text": [
      "266333\n"
     ]
    }
   ],
   "source": [
    "numbers = [3, 5]\n",
    "maximum = 1000\n",
    "\n",
    "result = 0\n",
    "for number in numbers:\n",
    "    for i in range(1,maximum):\n",
    "        if number*i < maximum:\n",
    "            result += number*i\n",
    "print (result)\n",
    "            "
   ]
  },
  {
   "cell_type": "code",
   "execution_count": 3,
   "metadata": {},
   "outputs": [
    {
     "name": "stdout",
     "output_type": "stream",
     "text": [
      "233168\n"
     ]
    }
   ],
   "source": [
    "result = 0\n",
    "for i in range(0,maximum):\n",
    "    if i%3 == 0 or i%5 ==0:\n",
    "        result +=i\n",
    "print (result)"
   ]
  },
  {
   "cell_type": "code",
   "execution_count": null,
   "metadata": {},
   "outputs": [],
   "source": []
  }
 ],
 "metadata": {
  "kernelspec": {
   "display_name": "Python 3",
   "language": "python",
   "name": "python3"
  },
  "language_info": {
   "codemirror_mode": {
    "name": "ipython",
    "version": 3
   },
   "file_extension": ".py",
   "mimetype": "text/x-python",
   "name": "python",
   "nbconvert_exporter": "python",
   "pygments_lexer": "ipython3",
   "version": "3.6.3"
  }
 },
 "nbformat": 4,
 "nbformat_minor": 2
}
